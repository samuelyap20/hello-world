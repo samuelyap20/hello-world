{
 "cells": [
  {
   "cell_type": "markdown",
   "metadata": {},
   "source": [
    "    NAMA  : Samuel Yap\n",
    "    NIM   : 09011281722037\n",
    "    KELAS : SK5A\n",
    "    MK    : KECERDASAN BUATAN"
   ]
  },
  {
   "cell_type": "markdown",
   "metadata": {},
   "source": [
    "-"
   ]
  },
  {
   "cell_type": "markdown",
   "metadata": {},
   "source": [
    "# Tugas Kecerdasan Buatan (METODE FUZZY MAMDANI DALAM MEMPREDIKSI TINGGINYA PEMAKAIAN LISTRIK)"
   ]
  },
  {
   "cell_type": "markdown",
   "metadata": {},
   "source": [
    "-"
   ]
  },
  {
   "cell_type": "code",
   "execution_count": 1,
   "metadata": {},
   "outputs": [],
   "source": [
    "import numpy as np\n",
    "import skfuzzy as fuzz\n",
    "import matplotlib.pyplot as plt\n",
    "from skfuzzy import control as ctrl"
   ]
  },
  {
   "cell_type": "markdown",
   "metadata": {},
   "source": [
    "Fuzzy Logic Untuk Menentukan tingginya pemakaian listrik. Dalam program ini terdapat input dan ouput. Input yang di gunakan\n",
    "ada 3 yaitu luas rumah,tegangan,perlengkapan. untuk ouput yang digunakan ada 1 yaitu pemakaian listrik.Numpy merupakan singkatan dari numerical python, adalah module yang di khususkan untuk menganalisa data dan memelakukan secara numerik disimbolkan dalam bentuk array(susunan).\n"
   ]
  },
  {
   "cell_type": "code",
   "execution_count": 2,
   "metadata": {},
   "outputs": [],
   "source": [
    "luasrumah = ctrl.Antecedent(np.arange(1,95,1), 'luasrumah')\n",
    "tegangan = ctrl.Antecedent(np.arange(45,131,1), 'tegangan')\n",
    "perlengkapan = ctrl.Antecedent(np.arange(1,8,1), 'perlengkapan')\n",
    "pemakaianlistrik = ctrl.Consequent(np.arange(50,101,1),'pemakaianlistrik')"
   ]
  },
  {
   "cell_type": "markdown",
   "metadata": {},
   "source": [
    "Menampilkan Input dan Ouput. Perintah Antecedent digunakan untuk input dan perintah consequent di gunakan untuk output"
   ]
  },
  {
   "cell_type": "code",
   "execution_count": 3,
   "metadata": {},
   "outputs": [],
   "source": [
    "luasrumah['standar'] = fuzz.trimf(luasrumah.universe, [1, 1, 50])\n",
    "luasrumah['medium'] = fuzz.trimf(luasrumah.universe, [50, 60, 70])\n",
    "luasrumah['besar'] = fuzz.trimf(luasrumah.universe, [70, 90, 90])"
   ]
  },
  {
   "cell_type": "markdown",
   "metadata": {},
   "source": [
    "# FUZZIFIKASI LUASRUMAH"
   ]
  },
  {
   "cell_type": "markdown",
   "metadata": {},
   "source": [
    "Untuk luas rumah, fungsi keanggotaan dibagi menjadi 3:\n",
    "\n",
    "\\begin{equation}\n",
    "  luasrumah['standar'] = \\mu LuasrumahStandar(x)=\\begin{cases}\n",
    "     1, & \\text{$1\\leq x \\leq 25$}.\\\\\n",
    "     & \\text{$25 \\leq x \\leq 50$}.\\\\\n",
    "    0, & \\text{$x\\geq 50$}.\n",
    "  \\end{cases}\n",
    "  \\\\\n",
    "    luasrumah['medium'] = \\mu LuasrumahMedium(x)=\\begin{cases}\n",
    "    0, &\\text{$x\\leq 50$ atau $x\\geq70$}.\\\\\n",
    "    \\left.(x - 50)\\, \\right/(60 - 50) , & \\text{$50 \\leq x \\leq 60$}.\\\\\n",
    "    \\left.(70 - x)\\, \\right/(70 - 60) , & \\text{$60 \\leq x \\leq 70$}.\\\\\n",
    "  \\end{cases}\n",
    "  \\\\\n",
    "  luasrumah['besar'] = \\mu LuasrumahBesar(x)=\\begin{cases}\n",
    "    0, & \\text{$x \\leq 90$}.\\\\\n",
    "    \\left.(x - 70) \\,  \\right/(90 - 70) , & \\text{$70 \\leq x \\leq 90$}.\\\\\n",
    "    1, & \\text{$x\\geq 90$}.\n",
    "  \\end{cases}\n",
    "\\end{equation}\n"
   ]
  },
  {
   "cell_type": "code",
   "execution_count": 4,
   "metadata": {},
   "outputs": [],
   "source": [
    "tegangan['rendah'] = fuzz.trimf(tegangan.universe, [1, 45, 90 ])\n",
    "tegangan['medium'] = fuzz.trimf(tegangan.universe, [45, 90, 130])\n",
    "tegangan['tinggi'] = fuzz.trimf(tegangan.universe, [90, 130, 130])"
   ]
  },
  {
   "cell_type": "markdown",
   "metadata": {},
   "source": [
    "Untuk luas rumah, fungsi keanggotaan dibagi menjadi 3:\n",
    "\n",
    "\\begin{equation}\n",
    "  tegangan['rendah'] = \\mu TeganganRendah(x)=\\begin{cases}\n",
    "    1, & \\text{$x \\leq 45$}.\\\\\n",
    "    \\left.(90 - x)  \\right/ 65 ; & \\text{$45 \\leq x \\leq 90$}.\\\\\n",
    "    0, & \\text{$x\\geq 90$}.\n",
    "  \\end{cases}\n",
    "  \\\\\n",
    "   tegangan['medium'] = \\mu TeganganMedium(x)=\\begin{cases}\n",
    "    0, & \\text{$x\\leq 45$ }.\\\\\n",
    "    \\left.(x - 45) \\right/45 ; & \\text{$45 \\leq x \\leq 90$}.\\\\\n",
    "    \\left.(130 - x) \\right/ 40 ; & \\text{$90 \\leq x \\leq 130$}.\\\\\n",
    "  \\end{cases}\n",
    "  \\\\\n",
    " tegangan['tinggi'] = \\mu TeganganTinggi(x)=\\begin{cases}\n",
    "    0, & \\text{$x \\leq 90$}.\\\\\n",
    "    \\left.(x - 90)  \\right/ 40 ; & \\text{$90 \\leq x \\leq 130$}.\\\\\n",
    "    1, & \\text{$x\\geq 130$}.\n",
    "  \\end{cases}\n",
    "\\end{equation}\n"
   ]
  },
  {
   "cell_type": "code",
   "execution_count": 5,
   "metadata": {},
   "outputs": [],
   "source": [
    "perlengkapan['sedikit'] = fuzz.trimf(perlengkapan.universe, [1, 1, 3])\n",
    "perlengkapan['normal'] = fuzz.trimf(perlengkapan.universe, [3, 4, 5])\n",
    "perlengkapan['banyak'] = fuzz.trimf(perlengkapan.universe, [5, 7, 7])"
   ]
  },
  {
   "cell_type": "markdown",
   "metadata": {},
   "source": [
    "Untuk luas rumah, fungsi keanggotaan dibagi menjadi 3:\n",
    "\n",
    "\\begin{equation}\n",
    "  perlengkapan['sedikit'] = \\mu PerlengkapanSedikit(x)=\\begin{cases}\n",
    "    1, & \\text{$x \\leq 1$}.\\\\\n",
    "    \\left.(3 - x)  \\right/ 2; & \\text{$1 \\leq x \\leq 3$}.\\\\\n",
    "    0, & \\text{$x\\geq 3$}.\n",
    "  \\end{cases}\n",
    "  \\\\\n",
    "    perlengkapan['normal'] = \\mu PerlengkapanNormal(x)=\\begin{cases}\n",
    "    0, & \\text{$ x \\leq3$}.\\\\\n",
    "    \\left.(x - 3) \\right/ 1 ;  & \\text{$3 \\leq x \\leq 4$}.\\\\\n",
    "    \\left.(5 - x) \\right/ 1 ;  & \\text{$4 \\leq x \\leq 5$}.\\\\\n",
    "  \\end{cases}\n",
    "  \\\\\n",
    " perlengkapan['banyak'] = \\mu PerlengkapanBanyak(x)=\\begin{cases}\n",
    "    0, & \\text{$x \\leq 5$}.\\\\\n",
    "    \\left.(x - 5) \\right/ 2; & \\text{$5 \\leq x \\leq 7$}.\\\\\n",
    "    1, & \\text{$x\\geq 7$}.\n",
    "  \\end{cases}\n",
    "\\end{equation}\n"
   ]
  },
  {
   "cell_type": "code",
   "execution_count": 6,
   "metadata": {},
   "outputs": [],
   "source": [
    "pemakaianlistrik['rendah'] = fuzz.trimf(pemakaianlistrik.universe, [1, 50, 75])\n",
    "pemakaianlistrik['sedang'] = fuzz.trimf(pemakaianlistrik.universe, [50, 75, 100])\n",
    "pemakaianlistrik['tinggi'] = fuzz.trimf(pemakaianlistrik.universe, [75, 100, 100])"
   ]
  },
  {
   "cell_type": "markdown",
   "metadata": {},
   "source": [
    "Untuk luas rumah, fungsi keanggotaan dibagi menjadi 3:\n",
    "\n",
    "\\begin{equation}\n",
    "  pemakaianlistrik['rendah'] = \\mu pemakaianlistrikRendah(x)=\\begin{cases}\n",
    "    1, & \\text{$ x \\leq 50$}.\\\\\n",
    "    \\left.(50 - x) \\right/ 25 ; & \\text{$50 \\leq x \\leq 75$}.\\\\\n",
    "    0, & \\text{$x\\geq 75$}.\n",
    "  \\end{cases}\n",
    "  \\\\\n",
    "    pemakaianlistrik['sedang'] = \\mu pemakaianlistrikSedang(x)=\\begin{cases}\n",
    "    0, & \\text{$ x \\leq 50$}.\\\\\n",
    "    \\left.(x - 50) \\right/25 ; & \\text{$50 \\leq x \\leq 75$}.\\\\\n",
    "    \\left.(100 - x) \\right/25 ; & \\text{$75 \\leq x \\leq 100$}.\\\\\n",
    "  \\end{cases}\n",
    "  \\\\\n",
    " pemakaianlistrik['tinggi'] = \\mu pemakaianlistrikTinggi(x)=\\begin{cases}\n",
    "    0, & \\text{$x \\leq 75$}.\\\\\n",
    "    \\left.(x - 75) \\right/25 ; & \\text{$75 \\leq x \\leq 100$}.\\\\\n",
    "    1, & \\text{$x\\geq 100$}.\n",
    "  \\end{cases}\n",
    "\\end{equation}\n"
   ]
  },
  {
   "cell_type": "markdown",
   "metadata": {},
   "source": [
    "Variabel input luas rumah memiliki rentang nilai dari 50 sampai 90 Variabel input tegangan memiliki rentang nilai dari 45 sampai 130 Variabel input perlengkapan memiliki rentang nilai dari 1 sampai 7 Variabel output pemakaian listrik mempunyai nilai rata-rata, dimana nilai tersebut dapat menyatakan pemakaian listrik dan dibagi menjadi 3 kondisi yaitu rendah, sedang dan tinggi.\n"
   ]
  },
  {
   "cell_type": "markdown",
   "metadata": {},
   "source": [
    "# Plotting fungsi keanggotaan luasrumah"
   ]
  },
  {
   "cell_type": "code",
   "execution_count": 7,
   "metadata": {},
   "outputs": [
    {
     "name": "stderr",
     "output_type": "stream",
     "text": [
      "C:\\Users\\USER\\Anaconda3\\lib\\site-packages\\matplotlib\\figure.py:459: UserWarning: matplotlib is currently using a non-GUI backend, so cannot show the figure\n",
      "  \"matplotlib is currently using a non-GUI backend, \"\n"
     ]
    },
    {
     "data": {
      "image/png": "[encoded data removed]",
      "text/plain": [
       "<Figure size 432x288 with 1 Axes>"
      ]
     },
     "metadata": {},
     "output_type": "display_data"
    }
   ],
   "source": [
    "luasrumah.view()"
   ]
  },
  {
   "cell_type": "markdown",
   "metadata": {},
   "source": [
    "Menampilkan Membership Function untuk variabel luas rumah.\n"
   ]
  },
  {
   "cell_type": "markdown",
   "metadata": {},
   "source": [
    "# Plotting fungsi keanggotaan tegangan"
   ]
  },
  {
   "cell_type": "code",
   "execution_count": 8,
   "metadata": {},
   "outputs": [
    {
     "name": "stderr",
     "output_type": "stream",
     "text": [
      "C:\\Users\\USER\\Anaconda3\\lib\\site-packages\\matplotlib\\figure.py:459: UserWarning: matplotlib is currently using a non-GUI backend, so cannot show the figure\n",
      "  \"matplotlib is currently using a non-GUI backend, \"\n"
     ]
    },
    {
     "data": {
      "image/png": "[encoded data removed]",
      "text/plain": [
       "<Figure size 432x288 with 1 Axes>"
      ]
     },
     "metadata": {},
     "output_type": "display_data"
    }
   ],
   "source": [
    "tegangan.view()"
   ]
  },
  {
   "cell_type": "markdown",
   "metadata": {},
   "source": [
    "Menampilkan Membership Function untuk variabel tegangan.\n"
   ]
  },
  {
   "cell_type": "markdown",
   "metadata": {},
   "source": [
    "# Plotting fungsi keanggotaan perlengkapan"
   ]
  },
  {
   "cell_type": "code",
   "execution_count": 9,
   "metadata": {},
   "outputs": [
    {
     "name": "stderr",
     "output_type": "stream",
     "text": [
      "C:\\Users\\USER\\Anaconda3\\lib\\site-packages\\matplotlib\\figure.py:459: UserWarning: matplotlib is currently using a non-GUI backend, so cannot show the figure\n",
      "  \"matplotlib is currently using a non-GUI backend, \"\n"
     ]
    },
    {
     "data": {
      "image/png": "[encoded data removed]",
      "text/plain": [
       "<Figure size 432x288 with 1 Axes>"
      ]
     },
     "metadata": {},
     "output_type": "display_data"
    }
   ],
   "source": [
    "perlengkapan.view()"
   ]
  },
  {
   "cell_type": "markdown",
   "metadata": {},
   "source": [
    "Menampilkan Membership Function untuk variabel perlengkapan.\n"
   ]
  },
  {
   "cell_type": "markdown",
   "metadata": {},
   "source": [
    "# Plotting fungsi keanggotaan pemakaianlistrik"
   ]
  },
  {
   "cell_type": "code",
   "execution_count": 10,
   "metadata": {},
   "outputs": [
    {
     "name": "stderr",
     "output_type": "stream",
     "text": [
      "C:\\Users\\USER\\Anaconda3\\lib\\site-packages\\matplotlib\\figure.py:459: UserWarning: matplotlib is currently using a non-GUI backend, so cannot show the figure\n",
      "  \"matplotlib is currently using a non-GUI backend, \"\n"
     ]
    },
    {
     "data": {
      "image/png": "[encoded data removed]",
      "text/plain": [
       "<Figure size 432x288 with 1 Axes>"
      ]
     },
     "metadata": {},
     "output_type": "display_data"
    }
   ],
   "source": [
    "pemakaianlistrik.view()"
   ]
  },
  {
   "cell_type": "markdown",
   "metadata": {},
   "source": [
    "Menampilkan Membership Function untuk variabel pemakaian listrik.\n"
   ]
  },
  {
   "cell_type": "markdown",
   "metadata": {},
   "source": [
    "# Inferencing\n",
    "Pada tahap inferencing, membuat aturan-aturan fuzzy yang dinyatakan dalam bentuk IF .... THEN ...."
   ]
  },
  {
   "cell_type": "markdown",
   "metadata": {},
   "source": [
    "Pada sistem ini berdasarkan jumlah fuzzifikasi dari variabel luasrumah yang berjumlah 3 dan fuzzifikasi dari variabel perlengkapan 3 dan fuzzifikasi dari variabel tegangan yang berjumlah 3, maka rule yang dibuat berjumlah 3 x 3 x 3 = 27 rule"
   ]
  },
  {
   "cell_type": "markdown",
   "metadata": {},
   "source": [
    "    1.IF luasrumah STANDAR dan perlengkapan SEDIKIT dan tegangan RENDAH THEN pemakaian listrik RENDAH\n",
    "    2.IF luasrumah STANDAR dan perlengkapan SEDIKIT dan tegangan MEDIUM THEN pemakaian listrik RENDAH\n",
    "    3.IF luasrumah STANDAR dan perlengkapan SEDIKIT dan tegangan TINGGI THEN pemakaian listrik RENDAH\n",
    "    4.IF luasrumah STANDAR dan perlengkapan NORMAL dan tegangan RENDAH THEN pemakaian listrik RENDAH\n",
    "    5.IF luasrumah STANDAR dan perlengkapan NORMAL dan tegangan MEDIUM THEN pemakaian listrik RENDAH\n",
    "    6.IF luasrumah STANDAR dan perlengkapan NORMAL dan tegangan TINGGI THEN pemakaian listrik RENDAH\n",
    "    7.IF luasrumah STANDAR dan perlengkapan BANYAK dan tegangan RENDAH THEN pemakaian listrik TINGGI\n",
    "    8.IF luasrumah STANDAR dan perlengkapan BANYAK dan tegangan TINGGI THEN pemakaian listrik RENDAH\n",
    "    9.IF luasrumah STANDAR dan perlengkapan BANYAK dan tegangan MEDIUM THEN pemakaian listrik SEDANG\n",
    "    10.IF luasrumah MEDIUM dan perlengkapan SEDIKIT dan tegangan MEDIUM THEN pemakaian listrik SEDANG\n",
    "    11.IF luasrumah MEDIUM dan perlengkapan SEDIKIT dan tegangan TINGGI THEN pemakaian listrik RENDAH\n",
    "    12.IF luasrumah MEDIUM dan perlengkapan SEDIKIT dan tegangan RENDAH THEN pemakaian listrik SEDANG\n",
    "    13.IF luasrumah MEDIUM dan perlengkapan NORMAL dan tegangan RENDAH THEN pemakaian listrik TINGGI\n",
    "    14.IF luasrumah MEDIUM dan perlengkapan NORMAL dan tegangan MEDIUM THEN pemakaian listrik SEDANG\n",
    "    15.IF luasrumah MEDIUM dan perlengkapan NORMAL dan tegangan TINGGI THEN pemakaian listrik SEDANG\n",
    "    16.IF luasrumah MEDIUM dan perlengkapan BANYAK dan tegangan RENDAH THEN pemakaian listrik TINGGI\n",
    "    17.IF luasrumah MEDIUM dan perlengkapan BANYAK dan tegangan MEDIUM THEN pemakaian listrik SEDANG\n",
    "    18.IF luasrumah MEDIUM dan perlengkapan BANYAK dan tegangan TINGGI THEN pemakaian listrik SEDANG\n",
    "    19.IF luasrumah BESAR dan perlengkapan SEDIKIT dan tegangan RENDAH THEN pemakaian listrik SEDANG\n",
    "    20.IF luasrumah BESAR dan perlengkapan SEDIKIT dan tegangan MEDIUM THEN pemakaian listrik SEDANG\n",
    "    21.IF luasrumah BESAR dan perlengkapan SEDIKIT dan tegangan TINGGI THEN pemakaian listrik TINGGI\n",
    "    22.IF luasrumah BESAR dan perlengkapan NORMAL dan tegangan RENDAH THEN pemakaian listrik TINGGI\n",
    "    23.IF luasrumah BESAR dan perlengkapan NORMAL dan tegangan MEDIUM THEN pemakaian listrik TINGGI\n",
    "    24.IF luasrumah BESAR dan perlengkapan NORMAL dan tegangan TINGGI THEN pemakaian listrik SEDANG\n",
    "    25.IF luasrumah BESAR dan perlengkapan BANYAK dan tegangan RENDAH THEN pemakaian listrik TINGGI\n",
    "    26.IF luasrumah BESAR dan perlengkapan BANYAK dan tegangan MEDIUM THEN pemakaian listrik TINGGI\n",
    "    27.IF luasrumah BESAR dan perlengkapan BANYAK dan tegangan TINGGI THEN pemakaian listrik SEDANG\n",
    "    \n",
    "    \n"
   ]
  },
  {
   "cell_type": "code",
   "execution_count": 11,
   "metadata": {},
   "outputs": [],
   "source": [
    "rule1 = ctrl.Rule(luasrumah['standar'] & perlengkapan['sedikit'] & tegangan['rendah'],pemakaianlistrik['rendah'])\n",
    "rule2 = ctrl.Rule(luasrumah['standar'] & perlengkapan['sedikit'] & tegangan['medium'],pemakaianlistrik['rendah'])\n",
    "rule3 = ctrl.Rule(luasrumah['standar'] & perlengkapan['sedikit'] & tegangan['tinggi'],pemakaianlistrik['rendah'])\n",
    "rule4 = ctrl.Rule(luasrumah['standar'] & perlengkapan['normal'] & tegangan['rendah'],pemakaianlistrik['rendah'])\n",
    "rule5 = ctrl.Rule(luasrumah['standar'] & perlengkapan['normal'] & tegangan['medium'],pemakaianlistrik['rendah'])\n",
    "rule6 = ctrl.Rule(luasrumah['standar'] & perlengkapan['normal'] & tegangan['tinggi'],pemakaianlistrik['rendah'])\n",
    "rule7 = ctrl.Rule(luasrumah['standar'] & perlengkapan['banyak'] & tegangan['rendah'],pemakaianlistrik['tinggi'])\n",
    "rule8 = ctrl.Rule(luasrumah['standar'] & perlengkapan['banyak'] & tegangan['tinggi'],pemakaianlistrik['rendah'])\n",
    "rule9 = ctrl.Rule(luasrumah['standar'] & perlengkapan['banyak'] & tegangan['medium'],pemakaianlistrik['sedang'])\n",
    "rule10 = ctrl.Rule(luasrumah['medium'] & perlengkapan['sedikit'] & tegangan['medium'],pemakaianlistrik['sedang'])\n",
    "rule11 = ctrl.Rule(luasrumah['medium'] & perlengkapan['sedikit'] & tegangan['tinggi'],pemakaianlistrik['rendah'])\n",
    "rule12 = ctrl.Rule(luasrumah['medium'] & perlengkapan['sedikit'] & tegangan['rendah'],pemakaianlistrik['sedang'])\n",
    "rule13 = ctrl.Rule(luasrumah['medium'] & perlengkapan['normal'] & tegangan['rendah'],pemakaianlistrik['tinggi'])\n",
    "rule14 = ctrl.Rule(luasrumah['medium'] & perlengkapan['normal'] & tegangan['medium'],pemakaianlistrik['sedang'])\n",
    "rule15 = ctrl.Rule(luasrumah['medium'] & perlengkapan['normal'] & tegangan['tinggi'],pemakaianlistrik['sedang'])\n",
    "rule16 = ctrl.Rule(luasrumah['medium'] & perlengkapan['banyak'] & tegangan['rendah'],pemakaianlistrik['tinggi'])\n",
    "rule17 = ctrl.Rule(luasrumah['medium'] & perlengkapan['banyak'] & tegangan['medium'],pemakaianlistrik['sedang'])\n",
    "rule18 = ctrl.Rule(luasrumah['medium'] & perlengkapan['banyak'] & tegangan['tinggi'],pemakaianlistrik['sedang'])\n",
    "rule19 = ctrl.Rule(luasrumah['besar'] & perlengkapan['sedikit'] & tegangan['medium'],pemakaianlistrik['sedang'])\n",
    "rule20 = ctrl.Rule(luasrumah['besar'] & perlengkapan['sedikit'] & tegangan['tinggi'],pemakaianlistrik['sedang'])\n",
    "rule21 = ctrl.Rule(luasrumah['besar'] & perlengkapan['sedikit'] & tegangan['rendah'],pemakaianlistrik['tinggi'])\n",
    "rule22 = ctrl.Rule(luasrumah['besar'] & perlengkapan['normal'] & tegangan['rendah'],pemakaianlistrik['tinggi'])\n",
    "rule23 = ctrl.Rule(luasrumah['besar'] & perlengkapan['normal'] & tegangan['medium'],pemakaianlistrik['tinggi'])\n",
    "rule24 = ctrl.Rule(luasrumah['besar'] & perlengkapan['normal'] & tegangan['tinggi'],pemakaianlistrik['sedang'])\n",
    "rule25 = ctrl.Rule(luasrumah['besar'] & perlengkapan['banyak'] & tegangan['rendah'],pemakaianlistrik['tinggi'])\n",
    "rule26 = ctrl.Rule(luasrumah['besar'] & perlengkapan['banyak'] & tegangan['medium'],pemakaianlistrik['tinggi'])\n",
    "rule27 = ctrl.Rule(luasrumah['besar'] & perlengkapan['banyak'] & tegangan['tinggi'],pemakaianlistrik['sedang'])\n",
    "\n"
   ]
  },
  {
   "cell_type": "markdown",
   "metadata": {},
   "source": [
    "# RULE \n",
    "\n",
    "Mendefinisikan hubungan fuzzy antara variabel input dan output, dengan kata lain aturan-aturan ini dibentuk untuk menyatakan relasi antara input yang ada dengan output. Operator yang yang digunakan untuk menghubungkan antara dua input adalah operator AND, dan yang menetapkan antara input-output adalah IF-THEN. Dari 3 input dan 1 output fuzzy tersebut akan ditetapkan aturan-aturan berdasarkan nilai dari masing-masing input dan output. Dimana aturan-aturan tersebut merupakan penetapan dan akan menentukan status pemakaian listrik. Dari 3 input dimana masing-masing 3 input memiliki 3 kondisi , didapatkan 27 rule.\n"
   ]
  },
  {
   "cell_type": "code",
   "execution_count": 12,
   "metadata": {},
   "outputs": [
    {
     "data": {
      "text/plain": [
       "(<Figure size 432x288 with 1 Axes>,\n",
       " <matplotlib.axes._subplots.AxesSubplot at 0x1f2646387b8>)"
      ]
     },
     "execution_count": 12,
     "metadata": {},
     "output_type": "execute_result"
    },
    {
     "data": {
      "image/png": "[encoded data removed]",
      "text/plain": [
       "<Figure size 432x288 with 1 Axes>"
      ]
     },
     "metadata": {},
     "output_type": "display_data"
    }
   ],
   "source": [
    "rule1.view()"
   ]
  },
  {
   "cell_type": "markdown",
   "metadata": {},
   "source": [
    "# RULE EVALUATION"
   ]
  },
  {
   "cell_type": "code",
   "execution_count": 13,
   "metadata": {},
   "outputs": [],
   "source": [
    "pemakaianlistrik_ctrl = ctrl.ControlSystem([rule1, rule2, rule3,rule4, rule5, rule6,rule7, rule8, rule9, rule10, \n",
    "                                  rule11, rule12, rule13, rule14, rule15, rule16,rule17,rule18,rule19,\n",
    "                                  rule20,rule21,rule22,rule23,rule24,rule25,rule26,rule27 ])"
   ]
  },
  {
   "cell_type": "markdown",
   "metadata": {},
   "source": [
    "# DEFUZZIFIKASI"
   ]
  },
  {
   "cell_type": "code",
   "execution_count": 14,
   "metadata": {},
   "outputs": [],
   "source": [
    "tingkat = ctrl.ControlSystemSimulation(pemakaianlistrik_ctrl)"
   ]
  },
  {
   "cell_type": "code",
   "execution_count": 15,
   "metadata": {},
   "outputs": [
    {
     "name": "stdout",
     "output_type": "stream",
     "text": [
      "75.00000000000004\n"
     ]
    },
    {
     "name": "stderr",
     "output_type": "stream",
     "text": [
      "C:\\Users\\USER\\Anaconda3\\lib\\site-packages\\matplotlib\\figure.py:459: UserWarning: matplotlib is currently using a non-GUI backend, so cannot show the figure\n",
      "  \"matplotlib is currently using a non-GUI backend, \"\n"
     ]
    },
    {
     "data": {
      "image/png": "[encoded data removed]",
      "text/plain": [
       "<Figure size 432x288 with 1 Axes>"
      ]
     },
     "metadata": {},
     "output_type": "display_data"
    }
   ],
   "source": [
    "tingkat.input['luasrumah'] = 23\n",
    "tingkat.input['perlengkapan'] = 7\n",
    "tingkat.input['tegangan']= 90\n",
    "tingkat.compute()\n",
    "print (tingkat.output['pemakaianlistrik'])\n",
    "pemakaianlistrik.view(sim=tingkat)"
   ]
  },
  {
   "cell_type": "markdown",
   "metadata": {},
   "source": [
    "Hasil Dari semua input yang di atas dapat disimpulkan bahwa output tersebut masuk kategori sedang."
   ]
  },
  {
   "cell_type": "markdown",
   "metadata": {},
   "source": [
    "# Perhitungan manual"
   ]
  },
  {
   "cell_type": "markdown",
   "metadata": {},
   "source": [
    "**SOAL**\n",
    "\n",
    "Berapakah besar pemakaian listrik jika luas rumah senilai 23 M persegi, jumlah perlengkapan 7 unit dan harga tegangan senilai 90."
   ]
  },
  {
   "cell_type": "markdown",
   "metadata": {},
   "source": [
    "**Luas rumah**\n",
    "\n",
    "- $\\mu standar[23]=(\\frac{50-23}{50-1})=\\frac{27}{49}=0.55$ <br>\n",
    "\n",
    "**Perlengkapan**\n",
    "\n",
    "- $\\mu banyak[7]=(\\frac{7-5}{7-5})=\\frac{2}{2}= 1$ <br>\n",
    "\n",
    "**Tegangan**\n",
    "\n",
    "- $\\mu sedang[90]=(\\frac{90-50}{100-50})=\\frac{40}{50}=0.8$ <br>\n",
    "- $\\mu tinggi[90]=(\\frac{90-75}{100-50})=\\frac{15}{50}=0.3$ <br>\n",
    "\n"
   ]
  },
  {
   "cell_type": "markdown",
   "metadata": {},
   "source": [
    "IF luasrumah = standar, perlengkapan = banyak, AND tegangan = sedang THEN pemakaianlistrik = sedang <br>\n",
    "$\\alpha 9 = \\mu luasrumah \\bigcap \\mu perlengkapan \\bigcap \\mu tegangan = min(\\mu standar[23], \\mu banyak[7] \\mu sedang [90]) = min [0,55;1;0,8] = 0,55$\n",
    "\n",
    "IF luasrumah = standar, perlengkapan = banyak, AND tegangan = sedang THEN pemakaianlistrik = rendah <br>\n",
    "$\\alpha 8 = \\mu luasrumah \\bigcap \\mu perlengkapan \\bigcap \\mu tegangan = min(\\mu standar[23], \\mu banyak[7] \\mu tinggi [90]) = min [0,55;1;0,3] = 0,3$\n",
    "\n"
   ]
  },
  {
   "cell_type": "markdown",
   "metadata": {},
   "source": [
    "\\begin{equation}\n",
    " pemakaianlistrik['sedang'] = \\mu pemakaianlistrikSedang(x)=\\begin{cases}\n",
    "    0, & \\text{$ x \\leq 50$}.\\\\\n",
    "    \\left.(x - 50) \\right/25 ; & \\text{$50 \\leq x \\leq 75$}.\\\\\n",
    "    \\left.(100 - x) \\right/25 ; & \\text{$75 \\leq x \\leq 100$}.\\\\\n",
    "  \\end{cases}\n",
    "  \\\\\n",
    " pemakaianlistrik['tinggi'] = \\mu pemakaianlistrikTinggi(x)=\\begin{cases}\n",
    "    0, & \\text{$x \\leq 75$}.\\\\\n",
    "    \\left.(x - 75) \\right/25 ; & \\text{$75 \\leq x \\leq 100$}.\\\\\n",
    "    1, & \\text{$x\\geq 100$}.\n",
    "  \\end{cases}\n",
    "\\end{equation}"
   ]
  },
  {
   "cell_type": "markdown",
   "metadata": {},
   "source": [
    "<font size = 10>\n",
    "$$\n",
    "Hasil = \\frac {\\sum XiAi}{\\sum Ai}\n",
    "$$\n",
    "</font>"
   ]
  },
  {
   "cell_type": "markdown",
   "metadata": {},
   "source": [
    "Untuk mencari nilai A kita menggunakan rumus\n",
    "$A = P x L$ untuk persegi panjang dan untuk menggunakan rumus $A = \\frac {1}{2} (P x L)$ untuk segitiga."
   ]
  },
  {
   "cell_type": "markdown",
   "metadata": {},
   "source": [
    "Rentang Nilai A\n",
    "$$A1 = 50 - 63 \\triangle$$\n",
    "$$A2 = 63 - 87 \\square$$\n",
    "$$A3 = 87 - 100 \\triangle$$"
   ]
  },
  {
   "cell_type": "markdown",
   "metadata": {},
   "source": [
    "Mencari nilai A1\n",
    "\n",
    "$\n",
    "A1 = \\frac {1}{2} (P x L) \\\\\n",
    "A1 = \\frac {1}{2} (13 x 0,55 L) \\\\ \n",
    "A1 = 3,575 \\\\\n",
    "$"
   ]
  },
  {
   "cell_type": "markdown",
   "metadata": {},
   "source": [
    "Untuk mencari nilai X nya kita akan menggunakan rumus $X = a + \\frac{2}{3}(b-a)$ untuk segitiga Atas/sisi kiri & $X = a + \\frac{1}{3}(b-a)$ untuk segitiga Bawah/sisi kanan, sedangkan untuk persegi panjang menggunakan rumus $X = \\frac{1}{2}(b+a)$"
   ]
  },
  {
   "cell_type": "markdown",
   "metadata": {},
   "source": [
    "Mencari nilai X1\n",
    "\n",
    "$\n",
    "X1 = a + \\frac{2}{3}(b-a) \\\\\n",
    "X1 = 50 + \\frac{2}{3}(63-50) \\\\ \n",
    "X1 = 50 + 8,66 \\\\\n",
    "X1 = 58.66\\\\\n",
    "$"
   ]
  },
  {
   "cell_type": "markdown",
   "metadata": {},
   "source": [
    "Mencari nilai X2\n",
    "\n",
    "$\n",
    "X2 =\\frac{1}{2}(b+a) \\\\\n",
    "X2 =\\frac{1}{2}(87+63) \\\\ \n",
    "X2 =\\frac{1}{2}(150) \\\\\n",
    "X2 = 75 \\\\\n",
    "$"
   ]
  },
  {
   "cell_type": "markdown",
   "metadata": {},
   "source": [
    "Mencari nilai X3\n",
    "\n",
    "$\n",
    "X3 = a + \\frac{1}{3}(b-a) \\\\\n",
    "X3 = 87 + \\frac{2}{3} (100 - 87) \\\\ \n",
    "X3 = 87 + \\frac{2}{3} (13) \\\\\n",
    "X3 = 87 +  8,66\\\\\n",
    "X3 = 95.66\\\\\n",
    "$"
   ]
  },
  {
   "cell_type": "markdown",
   "metadata": {},
   "source": [
    "$$Hasil = \\frac{\\sum XiAi}{\\sum Ai}$$\n",
    "\n",
    "$$Hasil = \\frac{(X1 \\times A1) + (X2 \\times A2) + (X3 \\times A3) }{A1 + A2 + A3 }$$\n",
    "\n",
    "$$Hasil = \\frac{(58,66 \\times 3,575) + (75 \\times 13,2) + (95,66 \\times 3,575) }{3,575 + 13,2 + 3,575 }$$\n",
    "\n",
    "$$Hasil = \\frac{(209,7095) + (990) + (341,9845‬) }{20,35}$$\n",
    "\n",
    "$$Hasil = \\frac{1541'694‬}{20,35}$$\n",
    "\n",
    "$$Hasil = 75,75$$"
   ]
  },
  {
   "cell_type": "markdown",
   "metadata": {},
   "source": [
    "Hasil output yang didapatkan adalah 75,75 poin pemakaian listrik dengan menggunakan perhitungan manual sedangkan di python output yang didapatkan adalah sebesar 75.00000000000004 poin pemakaian listrik . Terdapat perbedaan sebesar 0.75 poin."
   ]
  },
  {
   "cell_type": "code",
   "execution_count": null,
   "metadata": {},
   "outputs": [],
   "source": []
  },
  {
   "cell_type": "code",
   "execution_count": null,
   "metadata": {},
   "outputs": [],
   "source": []
  }
 ],
 "metadata": {
  "kernelspec": {
   "display_name": "Python 3",
   "language": "python",
   "name": "python3"
  },
  "language_info": {
   "codemirror_mode": {
    "name": "ipython",
    "version": 3
   },
   "file_extension": ".py",
   "mimetype": "text/x-python",
   "name": "python",
   "nbconvert_exporter": "python",
   "pygments_lexer": "ipython3",
   "version": "3.6.5"
  }
 },
 "nbformat": 4,
 "nbformat_minor": 2
}
